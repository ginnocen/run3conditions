{
 "cells": [
  {
   "cell_type": "code",
   "execution_count": 1,
   "id": "e5971b0b-ec51-4463-b085-ad2ada424112",
   "metadata": {},
   "outputs": [],
   "source": [
    "### Notebook for the calculation of beam parameters"
   ]
  },
  {
   "cell_type": "code",
   "execution_count": 11,
   "id": "e21b4895-9380-4f08-8290-d7c3d2547268",
   "metadata": {},
   "outputs": [],
   "source": [
    "#nb leveled at 1088. Running bunches are 1240\n",
    "nb = 1088;\n",
    "#fr is 27km/c\n",
    "fr = 11245;\n",
    "#lumi in b-1s-1\n",
    "lumiistinvbarninvs = 6400;\n",
    "#sigmaAAinel in barn\n",
    "sigmaAAinel = 7.76"
   ]
  },
  {
   "cell_type": "code",
   "execution_count": 4,
   "id": "2985f5b9-0181-4d99-9cf4-182fd7905c62",
   "metadata": {},
   "outputs": [
    {
     "name": "stdout",
     "output_type": "stream",
     "text": [
      "Inelastic interaction rate of AA is =  49664.0\n"
     ]
    }
   ],
   "source": [
    "PbPbinelasticrate = lumiistinvbarninvs*sigmaAAinel\n",
    "print(\"Inelastic interaction rate of AA is = \",PbPbinelasticrate)"
   ]
  },
  {
   "cell_type": "code",
   "execution_count": 7,
   "id": "c10aa65d-49a4-4ac0-8e13-dfec21a40df6",
   "metadata": {},
   "outputs": [
    {
     "name": "stdout",
     "output_type": "stream",
     "text": [
      "zero bias rate = 12234560\n",
      "Is the zero bias leveled or not?\n"
     ]
    }
   ],
   "source": [
    "#Zero bias rate \n",
    "zbrate = nb*fr\n",
    "print (\"zero bias rate =\", zbrate)\n",
    "print (\"Is the zero bias leveled or not?\")"
   ]
  },
  {
   "cell_type": "code",
   "execution_count": 8,
   "id": "063ffecc-d524-4fa0-bd4b-3517afe15005",
   "metadata": {},
   "outputs": [
    {
     "name": "stdout",
     "output_type": "stream",
     "text": [
      "sigmaZDCXOR is = 191.16500000000005\n"
     ]
    }
   ],
   "source": [
    "#Assuming that we have a mu_ZDCXOR = 0.1, what is an estimation of the cross section of ZDCXOR? \n",
    "\n",
    "muZDCXOR = 0.1\n",
    "sigmaZDCXOR = muZDCXOR*nb*fr/lumiistinvbarninvs\n",
    "print(\"sigmaZDCXOR is =\", sigmaZDCXOR)"
   ]
  },
  {
   "cell_type": "code",
   "execution_count": 12,
   "id": "c0a14bdb-cf5f-4c68-9942-04955b997618",
   "metadata": {},
   "outputs": [
    {
     "name": "stdout",
     "output_type": "stream",
     "text": [
      "To match the yield of hard probes collected in  3.0  inverse nb of AA, we need 131.4635294117647 pb-1 of pp\n"
     ]
    }
   ],
   "source": [
    "## Calculate the equivalent pp luminosity needed to have the same amount of hard probes as in 3 nb-1 of PbPb\n",
    "Ncoll0100_536 = 384.0\n",
    "sigmaAA = 7.76\n",
    "sigmaNN = 0.068\n",
    "lumiAAinvb = 3*1e9\n",
    "YieldsAA = lumiAAinvb * sigmaAA * Ncoll0100_536\n",
    "#Yieldspp = lumipp*sigmapp\n",
    "# lumiAAinvb * sigmaAA * Ncoll0100_536 = lumipp*sigmapp\n",
    "lumippinvb = YieldsAA/sigmaNN\n",
    "lumippinvpico = lumippinvb/1.e12\n",
    "print(\"To match the yield of hard probes collected in \",lumiAAinvb/1e9, \" inverse nb of AA, we need\", lumippinvpico, \"pb-1 of pp\")"
   ]
  },
  {
   "cell_type": "code",
   "execution_count": null,
   "id": "dba2df1b-8760-4ec4-bfc7-25cbe236b322",
   "metadata": {},
   "outputs": [],
   "source": []
  },
  {
   "cell_type": "code",
   "execution_count": null,
   "id": "7f8f6e26-14d3-47da-af48-66c6d7fc4db1",
   "metadata": {},
   "outputs": [],
   "source": []
  }
 ],
 "metadata": {
  "kernelspec": {
   "display_name": "Python 3 (ipykernel)",
   "language": "python",
   "name": "python3"
  },
  "language_info": {
   "codemirror_mode": {
    "name": "ipython",
    "version": 3
   },
   "file_extension": ".py",
   "mimetype": "text/x-python",
   "name": "python",
   "nbconvert_exporter": "python",
   "pygments_lexer": "ipython3",
   "version": "3.9.13"
  }
 },
 "nbformat": 4,
 "nbformat_minor": 5
}
